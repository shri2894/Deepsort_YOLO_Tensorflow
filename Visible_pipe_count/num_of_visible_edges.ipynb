{
 "cells": [
  {
   "cell_type": "code",
   "execution_count": 1,
   "id": "fa78a2f3",
   "metadata": {},
   "outputs": [],
   "source": [
    "import cv2\n",
    "import numpy as np\n",
    "import matplotlib.pyplot as plt"
   ]
  },
  {
   "cell_type": "code",
   "execution_count": 2,
   "id": "d9b64019",
   "metadata": {},
   "outputs": [
    {
     "name": "stdout",
     "output_type": "stream",
     "text": [
      "(1066, 1417, 3)\n"
     ]
    }
   ],
   "source": [
    "im = cv2.imread('visible_pipes.jpg')\n",
    "print(im.shape)"
   ]
  },
  {
   "cell_type": "code",
   "execution_count": 3,
   "id": "81608859",
   "metadata": {},
   "outputs": [],
   "source": [
    "out = im.copy()\n",
    "#Grayscale\n",
    "gry = cv2.cvtColor(out, cv2.COLOR_BGR2GRAY)\n",
    "# cv2.imshow('gray', gry)\n",
    "# cv2.waitKey(0)"
   ]
  },
  {
   "cell_type": "code",
   "execution_count": 4,
   "id": "f9c8ae90",
   "metadata": {},
   "outputs": [],
   "source": [
    "# Blur using 5 * 5 kernel.\n",
    "gray1 = cv2.GaussianBlur(gry, (5, 5), 7)"
   ]
  },
  {
   "cell_type": "code",
   "execution_count": 6,
   "id": "e8de18e8",
   "metadata": {},
   "outputs": [
    {
     "data": {
      "text/plain": [
       "(1, 195, 3)"
      ]
     },
     "execution_count": 6,
     "metadata": {},
     "output_type": "execute_result"
    }
   ],
   "source": [
    "# Apply Hough transform on the blurred image.\n",
    "detected_circles = cv2.HoughCircles(gray1, \n",
    "                   cv2.HOUGH_GRADIENT, 1, 22, param1 = 50,\n",
    "               param2 = 30, minRadius = 1, maxRadius = 40)\n",
    "detected_circles.shape"
   ]
  },
  {
   "cell_type": "code",
   "execution_count": 7,
   "id": "74b4946a",
   "metadata": {},
   "outputs": [
    {
     "data": {
      "text/plain": [
       "-1"
      ]
     },
     "execution_count": 7,
     "metadata": {},
     "output_type": "execute_result"
    }
   ],
   "source": [
    "out = im.copy()\n",
    "# Draw circles that are detected.\n",
    "if detected_circles is not None:\n",
    "  \n",
    "    # Convert the circle parameters a, b and r to integers.\n",
    "    detected_circles = np.uint16(np.around(detected_circles))\n",
    "  \n",
    "    for pt in detected_circles[0, :]:\n",
    "        a, b, r = pt[0], pt[1], pt[2]\n",
    "  \n",
    "        # Draw the circumference of the circle.\n",
    "        cv2.circle(out, (a, b), r, (0, 255, 0), 2)\n",
    "  \n",
    "        # Draw a small circle (of radius 1) to show the center.\n",
    "        cv2.circle(out, (a, b), 1, (0, 0, 255), 3)\n",
    "        cv2.putText(out, \"Number of edges = \" + str(detected_circles.shape[1]),(10,out.shape[0]-25),\n",
    "            cv2.FONT_HERSHEY_SIMPLEX, 0.7, (0,0,220), 2)\n",
    "cv2.imshow(\"Detected Circle\", cv2.resize(out, (960, 540)))\n",
    "cv2.waitKey(0)"
   ]
  },
  {
   "cell_type": "code",
   "execution_count": 8,
   "id": "13956317",
   "metadata": {},
   "outputs": [
    {
     "data": {
      "text/plain": [
       "(1, 195, 3)"
      ]
     },
     "execution_count": 8,
     "metadata": {},
     "output_type": "execute_result"
    }
   ],
   "source": [
    "detected_circles.shape"
   ]
  },
  {
   "cell_type": "code",
   "execution_count": 9,
   "id": "ffcc3737",
   "metadata": {},
   "outputs": [
    {
     "data": {
      "text/plain": [
       "True"
      ]
     },
     "execution_count": 9,
     "metadata": {},
     "output_type": "execute_result"
    }
   ],
   "source": [
    "cv2.imwrite('demo1.jpg', out)"
   ]
  }
 ],
 "metadata": {
  "kernelspec": {
   "display_name": "Python 3 (ipykernel)",
   "language": "python",
   "name": "python3"
  },
  "language_info": {
   "codemirror_mode": {
    "name": "ipython",
    "version": 3
   },
   "file_extension": ".py",
   "mimetype": "text/x-python",
   "name": "python",
   "nbconvert_exporter": "python",
   "pygments_lexer": "ipython3",
   "version": "3.9.6"
  }
 },
 "nbformat": 4,
 "nbformat_minor": 5
}
